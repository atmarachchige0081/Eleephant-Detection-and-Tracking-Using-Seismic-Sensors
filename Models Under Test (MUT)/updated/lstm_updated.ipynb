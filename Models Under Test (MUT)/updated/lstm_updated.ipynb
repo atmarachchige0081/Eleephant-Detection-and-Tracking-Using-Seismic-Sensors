{
  "nbformat": 4,
  "nbformat_minor": 0,
  "metadata": {
    "colab": {
      "provenance": [],
      "gpuType": "T4"
    },
    "kernelspec": {
      "name": "python3",
      "display_name": "Python 3"
    },
    "language_info": {
      "name": "python"
    },
    "accelerator": "GPU"
  },
  "cells": [
    {
      "cell_type": "code",
      "execution_count": 1,
      "metadata": {
        "colab": {
          "base_uri": "https://localhost:8080/"
        },
        "id": "WUAxic92ke4R",
        "outputId": "4b56639e-eee2-4e81-da76-0a0ff5baeca4"
      },
      "outputs": [
        {
          "output_type": "stream",
          "name": "stderr",
          "text": [
            "/usr/local/lib/python3.10/dist-packages/keras/src/layers/core/input_layer.py:26: UserWarning: Argument `input_shape` is deprecated. Use `shape` instead.\n",
            "  warnings.warn(\n"
          ]
        },
        {
          "output_type": "stream",
          "name": "stdout",
          "text": [
            "Epoch 1/30\n",
            "\u001b[1m2289/2289\u001b[0m \u001b[32m━━━━━━━━━━━━━━━━━━━━\u001b[0m\u001b[37m\u001b[0m \u001b[1m181s\u001b[0m 49ms/step - accuracy: 0.8554 - loss: 0.3791 - val_accuracy: 0.9141 - val_loss: 0.2338\n",
            "Epoch 2/30\n",
            "\u001b[1m2289/2289\u001b[0m \u001b[32m━━━━━━━━━━━━━━━━━━━━\u001b[0m\u001b[37m\u001b[0m \u001b[1m74s\u001b[0m 11ms/step - accuracy: 0.9554 - loss: 0.1150 - val_accuracy: 0.9613 - val_loss: 0.1085\n",
            "Epoch 3/30\n",
            "\u001b[1m2289/2289\u001b[0m \u001b[32m━━━━━━━━━━━━━━━━━━━━\u001b[0m\u001b[37m\u001b[0m \u001b[1m46s\u001b[0m 13ms/step - accuracy: 0.9633 - loss: 0.0929 - val_accuracy: 0.9292 - val_loss: 0.1832\n",
            "Epoch 4/30\n",
            "\u001b[1m2289/2289\u001b[0m \u001b[32m━━━━━━━━━━━━━━━━━━━━\u001b[0m\u001b[37m\u001b[0m \u001b[1m36s\u001b[0m 11ms/step - accuracy: 0.9678 - loss: 0.0801 - val_accuracy: 0.9411 - val_loss: 0.1604\n",
            "Epoch 5/30\n",
            "\u001b[1m2289/2289\u001b[0m \u001b[32m━━━━━━━━━━━━━━━━━━━━\u001b[0m\u001b[37m\u001b[0m \u001b[1m41s\u001b[0m 11ms/step - accuracy: 0.9712 - loss: 0.0724 - val_accuracy: 0.9600 - val_loss: 0.1053\n",
            "Epoch 6/30\n",
            "\u001b[1m2289/2289\u001b[0m \u001b[32m━━━━━━━━━━━━━━━━━━━━\u001b[0m\u001b[37m\u001b[0m \u001b[1m26s\u001b[0m 11ms/step - accuracy: 0.9723 - loss: 0.0695 - val_accuracy: 0.9784 - val_loss: 0.0660\n",
            "Epoch 7/30\n",
            "\u001b[1m2289/2289\u001b[0m \u001b[32m━━━━━━━━━━━━━━━━━━━━\u001b[0m\u001b[37m\u001b[0m \u001b[1m26s\u001b[0m 12ms/step - accuracy: 0.9730 - loss: 0.0672 - val_accuracy: 0.9701 - val_loss: 0.0780\n",
            "Epoch 8/30\n",
            "\u001b[1m2289/2289\u001b[0m \u001b[32m━━━━━━━━━━━━━━━━━━━━\u001b[0m\u001b[37m\u001b[0m \u001b[1m40s\u001b[0m 11ms/step - accuracy: 0.9734 - loss: 0.0655 - val_accuracy: 0.9687 - val_loss: 0.0826\n",
            "Epoch 9/30\n",
            "\u001b[1m2289/2289\u001b[0m \u001b[32m━━━━━━━━━━━━━━━━━━━━\u001b[0m\u001b[37m\u001b[0m \u001b[1m41s\u001b[0m 11ms/step - accuracy: 0.9747 - loss: 0.0623 - val_accuracy: 0.9622 - val_loss: 0.1060\n",
            "\u001b[1m842/842\u001b[0m \u001b[32m━━━━━━━━━━━━━━━━━━━━\u001b[0m\u001b[37m\u001b[0m \u001b[1m29s\u001b[0m 20ms/step - accuracy: 0.9714 - loss: 0.0576\n"
          ]
        },
        {
          "output_type": "stream",
          "name": "stderr",
          "text": [
            "WARNING:absl:You are saving your model as an HDF5 file via `model.save()` or `keras.saving.save_model(model)`. This file format is considered legacy. We recommend using instead the native Keras format, e.g. `model.save('my_model.keras')` or `keras.saving.save_model(model, 'my_model.keras')`. \n"
          ]
        },
        {
          "output_type": "stream",
          "name": "stdout",
          "text": [
            "LSTM-only Model Test Loss: 0.05752319470047951, Test Accuracy: 0.9721118211746216\n"
          ]
        }
      ],
      "source": [
        "import numpy as np\n",
        "import pandas as pd\n",
        "from sklearn.model_selection import train_test_split\n",
        "from tensorflow.keras.models import Sequential\n",
        "from tensorflow.keras.layers import InputLayer, LSTM, Dropout, Dense\n",
        "from tensorflow.keras.optimizers import Adam\n",
        "from tensorflow.keras.callbacks import EarlyStopping\n",
        "from tensorflow.keras.utils import to_categorical\n",
        "from imblearn.over_sampling import SMOTE  # Import SMOTE\n",
        "\n",
        "def add_noise(data, noise_factor=0.1):\n",
        "    noise = np.random.normal(0, noise_factor, data.shape)\n",
        "    return data + noise\n",
        "\n",
        "def create_sequences(data, sequence_length=100):\n",
        "    X, y = [], []\n",
        "    for i in range(len(data) - sequence_length + 1):\n",
        "        sequence_data = data.iloc[i:i + sequence_length]\n",
        "        X.append(sequence_data['Data'].values.reshape(-1, 1))\n",
        "        # Count the number of ones in the 'Label' column of the current sequence\n",
        "        label_count = sequence_data['Label'].sum()\n",
        "        if label_count > 3:\n",
        "            y.append(1)\n",
        "        else:\n",
        "            y.append(0)\n",
        "    return np.array(X), np.array(y)\n",
        "\n",
        "data = pd.read_csv('/content/labelled.csv')\n",
        "data['Data'] = add_noise(data['Data'], noise_factor=0.01)\n",
        "\n",
        "X, y = create_sequences(data)\n",
        "X_train, X_test, y_train, y_test = train_test_split(X, y, test_size=0.2, random_state=42)\n",
        "\n",
        "# Apply SMOTE\n",
        "smote = SMOTE(random_state=42)\n",
        "X_train, y_train = smote.fit_resample(X_train.reshape(X_train.shape[0], -1), y_train)\n",
        "X_train = X_train.reshape(X_train.shape[0], 100, 1)  # Reshape back to the original shape\n",
        "\n",
        "y_train = to_categorical(y_train, num_classes=2)\n",
        "y_test = to_categorical(y_test, num_classes=2)\n",
        "\n",
        "model_lstm = Sequential([\n",
        "    InputLayer(input_shape=(100, 1)),\n",
        "    LSTM(50, return_sequences=True, unroll=True),\n",
        "    LSTM(25, return_sequences=False, unroll=True),\n",
        "    Dropout(0.5),\n",
        "    Dense(50, activation='relu'),\n",
        "    Dropout(0.5),\n",
        "    Dense(2, activation='softmax')\n",
        "])\n",
        "\n",
        "model_lstm.compile(optimizer=Adam(learning_rate=0.0001), loss='binary_crossentropy', metrics=['accuracy'])\n",
        "early_stopping_lstm = EarlyStopping(monitor='val_loss', patience=3, restore_best_weights=True)\n",
        "\n",
        "history_lstm = model_lstm.fit(X_train, y_train, epochs=30, batch_size=64, validation_split=0.2, callbacks=[early_stopping_lstm])\n",
        "evaluation_lstm = model_lstm.evaluate(X_test, y_test)\n",
        "\n",
        "print(f\"LSTM-only Model Test Loss: {evaluation_lstm[0]}, Test Accuracy: {evaluation_lstm[1]}\")\n",
        "model_lstm.save('lstm_only_model.h5')\n"
      ]
    },
    {
      "cell_type": "code",
      "source": [
        "import matplotlib.pyplot as plt\n",
        "import seaborn as sns\n",
        "from sklearn.metrics import confusion_matrix, classification_report, roc_curve, auc\n",
        "from tensorflow.keras.models import load_model\n",
        "import numpy as np\n",
        "\n",
        "model = load_model('lstm_only_model.h5')\n",
        "y_pred_prob = model.predict(X_test)\n",
        "is_binary_classification = y_pred_prob.shape[1] == 1\n",
        "if is_binary_classification:\n",
        "    y_pred = (y_pred_prob > 0.5).astype(int).reshape(-1)\n",
        "else:\n",
        "    y_pred = np.argmax(y_pred_prob, axis=1)\n",
        "if y_test.ndim > 1 and y_test.shape[1] > 1:\n",
        "    y_test_labels = np.argmax(y_test, axis=1)\n",
        "else:\n",
        "    y_test_labels = y_test\n",
        "conf_matrix = confusion_matrix(y_test_labels, y_pred)\n",
        "plt.figure(figsize=(8, 6))\n",
        "sns.heatmap(conf_matrix, annot=True, fmt='d', cmap='Blues', cbar=False)\n",
        "plt.xlabel('Predicted Label')\n",
        "plt.ylabel('True Label')\n",
        "plt.title('Confusion Matrix')\n",
        "plt.show()\n",
        "print(classification_report(y_test_labels, y_pred))\n",
        "if is_binary_classification:\n",
        "    fpr, tpr, thresholds = roc_curve(y_test_labels, y_pred_prob.ravel())\n",
        "    roc_auc = auc(fpr, tpr)\n",
        "    plt.figure(figsize=(8, 6))\n",
        "    plt.plot(fpr, tpr, color='darkorange', lw=2, label=f'ROC curve (area = {roc_auc:.2f})')\n",
        "    plt.plot([0, 1], [0, 1], color='navy', lw=2, linestyle='--')\n",
        "    plt.xlim([0.0, 1.0])\n",
        "    plt.ylim([0.0, 1.05])\n",
        "    plt.xlabel('False Positive Rate')\n",
        "    plt.ylabel('True Positive Rate')\n",
        "    plt.title('Receiver Operating Characteristic (ROC) Curve')\n",
        "    plt.legend(loc=\"lower right\")\n",
        "    plt.show()\n",
        "if 'history' in locals() or 'history' in globals():\n",
        "    plt.figure(figsize=(12, 5))\n",
        "    plt.subplot(1, 2, 1)\n",
        "    plt.plot(history.history['accuracy'], label='Train Accuracy')\n",
        "    plt.plot(history.history['val_accuracy'], label='Validation Accuracy')\n",
        "    plt.title('Model Accuracy')\n",
        "    plt.xlabel('Epoch')\n",
        "    plt.ylabel('Accuracy')\n",
        "    plt.legend()\n",
        "\n",
        "    plt.subplot(1, 2, 2)\n",
        "    plt.plot(history.history['loss'], label='Train Loss')\n",
        "    plt.plot(history.history['val_loss'], label='Validation Loss')\n",
        "    plt.title('Model Loss')\n",
        "    plt.xlabel('Epoch')\n",
        "    plt.ylabel('Loss')\n",
        "    plt.legend()\n",
        "\n",
        "    plt.tight_layout()\n",
        "    plt.show()\n"
      ],
      "metadata": {
        "colab": {
          "base_uri": "https://localhost:8080/",
          "height": 785
        },
        "id": "lUj4pVQHnBha",
        "outputId": "0e27c4ce-eba2-4ba0-acbb-8363f636c024"
      },
      "execution_count": 2,
      "outputs": [
        {
          "output_type": "stream",
          "name": "stderr",
          "text": [
            "WARNING:absl:Compiled the loaded model, but the compiled metrics have yet to be built. `model.compile_metrics` will be empty until you train or evaluate the model.\n"
          ]
        },
        {
          "output_type": "stream",
          "name": "stdout",
          "text": [
            "\u001b[1m842/842\u001b[0m \u001b[32m━━━━━━━━━━━━━━━━━━━━\u001b[0m\u001b[37m\u001b[0m \u001b[1m41s\u001b[0m 22ms/step\n"
          ]
        },
        {
          "output_type": "display_data",
          "data": {
            "text/plain": [
              "<Figure size 800x600 with 1 Axes>"
            ],
            "image/png": "[encoded data removed]"
          },
          "metadata": {}
        },
        {
          "output_type": "stream",
          "name": "stdout",
          "text": [
            "              precision    recall  f1-score   support\n",
            "\n",
            "           0       1.00      0.97      0.98     22900\n",
            "           1       0.85      0.99      0.91      4029\n",
            "\n",
            "    accuracy                           0.97     26929\n",
            "   macro avg       0.92      0.98      0.95     26929\n",
            "weighted avg       0.98      0.97      0.97     26929\n",
            "\n"
          ]
        }
      ]
    },
    {
      "cell_type": "code",
      "source": [
        "import tensorflow as tf\n",
        "\n",
        "model = tf.keras.models.load_model(\"lstm_only_model.h5\")\n",
        "\n",
        "converter = tf.lite.TFLiteConverter.from_keras_model(model)\n",
        "tflite_model = converter.convert()\n",
        "\n",
        "with open(\"model.tflite\", \"wb\") as f:\n",
        "    f.write(tflite_model)\n"
      ],
      "metadata": {
        "colab": {
          "base_uri": "https://localhost:8080/"
        },
        "id": "u6Qp6NLfncxL",
        "outputId": "df9ac3c5-ec04-41e0-ea6b-827be091ebc9"
      },
      "execution_count": 3,
      "outputs": [
        {
          "output_type": "stream",
          "name": "stderr",
          "text": [
            "WARNING:absl:Compiled the loaded model, but the compiled metrics have yet to be built. `model.compile_metrics` will be empty until you train or evaluate the model.\n"
          ]
        },
        {
          "output_type": "stream",
          "name": "stdout",
          "text": [
            "Saved artifact at '/tmp/tmp2_2i3nvn'. The following endpoints are available:\n",
            "\n",
            "* Endpoint 'serve'\n",
            "  args_0 (POSITIONAL_ONLY): TensorSpec(shape=(None, 100, 1), dtype=tf.float32, name='input_layer')\n",
            "Output Type:\n",
            "  TensorSpec(shape=(None, 2), dtype=tf.float32, name=None)\n",
            "Captures:\n",
            "  132279094515264: TensorSpec(shape=(), dtype=tf.resource, name=None)\n",
            "  132279094525648: TensorSpec(shape=(), dtype=tf.resource, name=None)\n",
            "  132279094518256: TensorSpec(shape=(), dtype=tf.resource, name=None)\n",
            "  132279094595072: TensorSpec(shape=(), dtype=tf.resource, name=None)\n",
            "  132279094597888: TensorSpec(shape=(), dtype=tf.resource, name=None)\n",
            "  132279094598416: TensorSpec(shape=(), dtype=tf.resource, name=None)\n",
            "  132279094606512: TensorSpec(shape=(), dtype=tf.resource, name=None)\n",
            "  132279094604048: TensorSpec(shape=(), dtype=tf.resource, name=None)\n",
            "  132279093614848: TensorSpec(shape=(), dtype=tf.resource, name=None)\n",
            "  132279093617664: TensorSpec(shape=(), dtype=tf.resource, name=None)\n"
          ]
        }
      ]
    }
  ]
}